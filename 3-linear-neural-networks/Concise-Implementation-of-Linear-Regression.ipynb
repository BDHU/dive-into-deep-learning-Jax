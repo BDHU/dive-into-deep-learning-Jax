{
 "cells": [
  {
   "cell_type": "markdown",
   "id": "ef7dc7fa",
   "metadata": {},
   "source": [
    "### 3.3.1. Generating the Dataset"
   ]
  },
  {
   "cell_type": "code",
   "execution_count": null,
   "id": "c893e6e8",
   "metadata": {},
   "outputs": [],
   "source": [
    "import numpy as np\n",
    "import jax\n",
    "import jax.numpy as jnp\n",
    "import haiku as hk\n",
    "import flax\n",
    "import optax\n",
    "import matplotlib.pyplot as plt"
   ]
  },
  {
   "cell_type": "code",
   "execution_count": null,
   "id": "d2782989",
   "metadata": {},
   "outputs": [],
   "source": [
    "key = jax.random.PRNGKey(1071)\n",
    "\n",
    "def synthetic_data(w, b, num_examples):\n",
    "    \"\"\"Generate y = Xw + b + noise.\"\"\"\n",
    "    X = jax.random.normal(key, shape=(num_examples, len(w)))\n",
    "    y = jax.numpy.matmul(X, w) + np.random.normal(0, 0.01, size=(num_examples, 1))\n",
    "    return X, y\n",
    "true_w = jnp.array([[2, -3.4]])\n",
    "true_b = 4.2\n",
    "num_examples = 1000\n",
    "features, labels = synthetic_data(jnp.transpose(true_w), true_b, num_examples)\n",
    "print(jnp.shape(features))\n",
    "print(jnp.shape(labels))\n",
    "print('features:', features[0],'\\nlabel:', labels[0])\n",
    "\n",
    "plt.scatter(features[:, 0], labels)\n",
    "plt.scatter(features[:, 1], labels)"
   ]
  },
  {
   "cell_type": "code",
   "execution_count": null,
   "id": "370d33b1",
   "metadata": {},
   "outputs": [],
   "source": [
    "def data_iter(batch_size, features, labels):\n",
    "    num_examples = len(features)\n",
    "    indices = jax.numpy.array(range(num_examples))\n",
    "    # The examples are read at random, in no particular order\n",
    "    jax.random.permutation(key, indices)\n",
    "    for i in range(0, num_examples, batch_size):\n",
    "        batch_indices = jnp.array(\n",
    "            indices[i: min(i + batch_size, num_examples)])\n",
    "        yield features[batch_indices], labels[batch_indices]"
   ]
  },
  {
   "cell_type": "code",
   "execution_count": null,
   "id": "641003b6",
   "metadata": {},
   "outputs": [],
   "source": [
    "batch_size = 10\n",
    "\n",
    "for X, y in data_iter(batch_size, features, labels):\n",
    "    print(X, '\\n', y)\n",
    "    break"
   ]
  },
  {
   "cell_type": "code",
   "execution_count": null,
   "id": "7f6a46e1",
   "metadata": {},
   "outputs": [],
   "source": [
    "w = jax.random.normal(key, shape=(2, 1))\n",
    "b = jnp.zeros(1)"
   ]
  },
  {
   "cell_type": "code",
   "execution_count": null,
   "id": "0e4625a0",
   "metadata": {},
   "outputs": [],
   "source": [
    "w , b"
   ]
  },
  {
   "cell_type": "code",
   "execution_count": null,
   "id": "3dd05c3e",
   "metadata": {},
   "outputs": [],
   "source": [
    "def mean_squared_loss(y_hat, y):\n",
    "    return jnp.mean(0.5 * jnp.square(y_hat - y.reshape(y.shape)))"
   ]
  },
  {
   "cell_type": "markdown",
   "id": "fb2edf93",
   "metadata": {},
   "source": [
    "### Define model in Flax"
   ]
  },
  {
   "cell_type": "code",
   "execution_count": null,
   "id": "46217dd3",
   "metadata": {},
   "outputs": [],
   "source": [
    "feature_dim = len(w)\n",
    "model = flax.linen.Dense(features=feature_dim)"
   ]
  },
  {
   "cell_type": "code",
   "execution_count": null,
   "id": "4928f96c",
   "metadata": {},
   "outputs": [],
   "source": [
    "dummy_x = [1.0, 2.0] # trigger shape inference\n",
    "params = model.init(key, dummy_x)\n",
    "jax.tree_map(lambda x: x.shape, params)"
   ]
  },
  {
   "cell_type": "code",
   "execution_count": null,
   "id": "0bd0f867",
   "metadata": {},
   "outputs": [],
   "source": [
    "model.apply(params, [1.0, 1.0])"
   ]
  },
  {
   "cell_type": "code",
   "execution_count": null,
   "id": "46d5eeb5",
   "metadata": {},
   "outputs": [],
   "source": [
    "def loss(params, inputs, y_hat):\n",
    "    output = model.apply(params, inputs)\n",
    "    return mean_squared_loss(y_hat, output)\n",
    "\n",
    "loss(params, jnp.array([[1.0, 1.0], [2.0, 2.2]]), jnp.array([[2.0, 2.0], [1.0, 1.0]]))"
   ]
  },
  {
   "cell_type": "code",
   "execution_count": null,
   "id": "d1b74157",
   "metadata": {},
   "outputs": [],
   "source": [
    "tx = optax.sgd(learning_rate=0.01)\n",
    "opt_state = tx.init(params)\n",
    "loss_grad_fn = jax.jit(jax.value_and_grad(loss))"
   ]
  },
  {
   "cell_type": "code",
   "execution_count": null,
   "id": "b333b014",
   "metadata": {},
   "outputs": [],
   "source": [
    "for epoch in range(5):\n",
    "    for X, y_hat in data_iter(batch_size, features, labels):\n",
    "        l, grad = loss_grad_fn(params, X, y_hat)\n",
    "        updates, opt_state = tx.update(grad, opt_state)\n",
    "        params = optax.apply_updates(params, updates)\n",
    "    print(\"loss: {0}\".format(l))"
   ]
  }
 ],
 "metadata": {
  "kernelspec": {
   "display_name": "Python 3 (ipykernel)",
   "language": "python",
   "name": "python3"
  },
  "language_info": {
   "codemirror_mode": {
    "name": "ipython",
    "version": 3
   },
   "file_extension": ".py",
   "mimetype": "text/x-python",
   "name": "python",
   "nbconvert_exporter": "python",
   "pygments_lexer": "ipython3",
   "version": "3.8.12"
  }
 },
 "nbformat": 4,
 "nbformat_minor": 5
}
