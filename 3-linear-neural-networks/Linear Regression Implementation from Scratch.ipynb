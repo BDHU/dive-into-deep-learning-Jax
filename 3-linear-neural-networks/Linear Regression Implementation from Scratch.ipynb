{
 "cells": [
  {
   "cell_type": "markdown",
   "id": "6634bfe0",
   "metadata": {},
   "source": [
    "## 3.2. Linear Regression Implementation from Scratch"
   ]
  },
  {
   "cell_type": "code",
   "execution_count": 1,
   "id": "bc792aa5",
   "metadata": {},
   "outputs": [],
   "source": [
    "%matplotlib inline\n",
    "import matplotlib\n",
    "import random\n",
    "import jax\n",
    "import jax.numpy as jnp\n",
    "from jax import random\n",
    "import numpy as np"
   ]
  },
  {
   "cell_type": "markdown",
   "id": "341430e8",
   "metadata": {},
   "source": [
    "### 3.2.1. Generating the Dataset"
   ]
  },
  {
   "cell_type": "code",
   "execution_count": 2,
   "id": "74033f53",
   "metadata": {},
   "outputs": [
    {
     "name": "stdout",
     "output_type": "stream",
     "text": [
      "(1000, 2)\n",
      "(1000, 1)\n",
      "features: [-1.196918   -0.16342507] \n",
      "label: [-1.8336298]\n"
     ]
    },
    {
     "data": {
      "text/plain": [
       "<matplotlib.collections.PathCollection at 0x7fd8541b1760>"
      ]
     },
     "execution_count": 2,
     "metadata": {},
     "output_type": "execute_result"
    },
    {
     "data": {
      "image/png": "[encoded data removed]",
      "text/plain": [
       "<Figure size 432x288 with 1 Axes>"
      ]
     },
     "metadata": {
      "needs_background": "light"
     },
     "output_type": "display_data"
    }
   ],
   "source": [
    "key = jax.random.PRNGKey(1071)\n",
    "\n",
    "def synthetic_data(w, b, num_examples):\n",
    "    \"\"\"Generate y = Xw + b + noise.\"\"\"\n",
    "    X = jax.random.normal(key, shape=(num_examples, len(w)))\n",
    "    y = jax.numpy.matmul(X, w) + np.random.normal(0, 0.01, size=(num_examples, 1))\n",
    "    return X, y\n",
    "true_w = jnp.array([[2, -3.4]])\n",
    "true_b = 4.2\n",
    "num_examples = 1000\n",
    "features, labels = synthetic_data(jnp.transpose(true_w), true_b, num_examples)\n",
    "print(jnp.shape(features))\n",
    "print(jnp.shape(labels))\n",
    "print('features:', features[0],'\\nlabel:', labels[0])\n",
    "\n",
    "matplotlib.pyplot.scatter(features[:, 0], labels)\n",
    "matplotlib.pyplot.scatter(features[:, 1], labels)"
   ]
  },
  {
   "cell_type": "markdown",
   "id": "0539ebee",
   "metadata": {},
   "source": [
    "### 3.2.2 Reading the Dataset"
   ]
  },
  {
   "cell_type": "code",
   "execution_count": 3,
   "id": "92e368d8",
   "metadata": {},
   "outputs": [],
   "source": [
    "def data_iter(batch_size, features, labels):\n",
    "    num_examples = len(features)\n",
    "    indices = jax.numpy.array(range(num_examples))\n",
    "    # The examples are read at random, in no particular order\n",
    "    jax.random.permutation(key, indices)\n",
    "    for i in range(0, num_examples, batch_size):\n",
    "        batch_indices = jnp.array(\n",
    "            indices[i: min(i + batch_size, num_examples)])\n",
    "        yield features[batch_indices], labels[batch_indices]"
   ]
  },
  {
   "cell_type": "code",
   "execution_count": 4,
   "id": "321af72d",
   "metadata": {},
   "outputs": [
    {
     "name": "stdout",
     "output_type": "stream",
     "text": [
      "[[-1.196918   -0.16342507]\n",
      " [ 1.818136   -0.02618674]\n",
      " [-0.5925458  -0.773384  ]\n",
      " [-0.1722815  -0.54554236]\n",
      " [-1.5969205  -0.73850787]\n",
      " [-1.6086253  -0.02185807]\n",
      " [ 1.5184388  -0.3534325 ]\n",
      " [-0.26321772  0.20963678]\n",
      " [ 0.13174964  0.40896437]\n",
      " [-1.0124239  -0.61473286]] \n",
      " [[-1.8336298 ]\n",
      " [ 3.7241604 ]\n",
      " [ 1.4448211 ]\n",
      " [ 1.507385  ]\n",
      " [-0.66629875]\n",
      " [-3.1548507 ]\n",
      " [ 4.2409883 ]\n",
      " [-1.2265179 ]\n",
      " [-1.1361338 ]\n",
      " [ 0.05116016]]\n"
     ]
    }
   ],
   "source": [
    "batch_size = 10\n",
    "\n",
    "for X, y in data_iter(batch_size, features, labels):\n",
    "    print(X, '\\n', y)\n",
    "    break"
   ]
  },
  {
   "cell_type": "markdown",
   "id": "64d066bd",
   "metadata": {},
   "source": [
    "### 3.2.3. Initializing Model Parameters"
   ]
  },
  {
   "cell_type": "code",
   "execution_count": 5,
   "id": "760628dc",
   "metadata": {},
   "outputs": [],
   "source": [
    "w = jax.random.normal(key, shape=(2, 1))\n",
    "b = jnp.zeros(1)"
   ]
  },
  {
   "cell_type": "markdown",
   "id": "6516ae68",
   "metadata": {},
   "source": [
    "### 3.2.4. Defining the Model"
   ]
  },
  {
   "cell_type": "code",
   "execution_count": 6,
   "id": "495fbb61",
   "metadata": {},
   "outputs": [],
   "source": [
    "def linreg(X, w, b):\n",
    "    \"\"\"The linear regression model.\"\"\"\n",
    "    return jnp.dot(X, w) + b"
   ]
  },
  {
   "cell_type": "markdown",
   "id": "00b67dc1",
   "metadata": {},
   "source": [
    "### 3.2.5. Defining the Loss Function"
   ]
  },
  {
   "cell_type": "code",
   "execution_count": 7,
   "id": "ab821cf5",
   "metadata": {},
   "outputs": [],
   "source": [
    "def squared_loss(y_hat, y):\n",
    "    return jnp.mean(0.5 * jnp.square(y_hat - y.reshape(y.shape)))"
   ]
  },
  {
   "cell_type": "markdown",
   "id": "3f265b12",
   "metadata": {},
   "source": [
    "### 3.2.6. Defining the Optimization Algorithm"
   ]
  },
  {
   "cell_type": "code",
   "execution_count": 41,
   "id": "fe958389",
   "metadata": {},
   "outputs": [],
   "source": [
    "def sgd(params, b, grads, lr=0.01):\n",
    "    w_grad = grads[0]\n",
    "    bias_grad = grads[1]\n",
    "#     params = params.at[:].add(-lr * w_grad / batch_size)\n",
    "#     b = b.at[:].add(-lr * bias_grad / batch_size)\n",
    "    params -= lr * w_grad / batch_size\n",
    "    b -= lr * bias_grad / batch_size\n",
    "    return params, b"
   ]
  },
  {
   "cell_type": "markdown",
   "id": "e967a216",
   "metadata": {},
   "source": [
    "### 3.2.7. Training"
   ]
  },
  {
   "cell_type": "code",
   "execution_count": 42,
   "id": "a37a65c6",
   "metadata": {},
   "outputs": [
    {
     "name": "stdout",
     "output_type": "stream",
     "text": [
      "loss: 0.00017371935246046633\n",
      "loss: 0.00015047659690026194\n",
      "loss: 0.00013158534420654178\n"
     ]
    }
   ],
   "source": [
    "lr = 0.03\n",
    "num_epochs = 3\n",
    "\n",
    "def loss(X, w, b, y_hat):\n",
    "    y = linreg(X, w, b)\n",
    "    return squared_loss(y_hat, y)\n",
    "\n",
    "grad_func = jax.grad(loss, argnums=[1,2])\n",
    "\n",
    "for epoch in range(num_epochs):\n",
    "    for X, y in data_iter(batch_size, features, labels):\n",
    "        l = loss(X, w, b, y)\n",
    "        grads = grad_func(X, w, b, y)\n",
    "        w, b = sgd(w, b, grads)\n",
    "#         w -= lr * grads[0] / batch_size\n",
    "#         b -= lr * grads[1] / batch_size\n",
    "    train_l = squared_loss(labels, linreg(features, w, b))\n",
    "    print(\"loss: {0}\".format(train_l.mean()))\n",
    "        "
   ]
  },
  {
   "cell_type": "code",
   "execution_count": null,
   "id": "7426769d",
   "metadata": {},
   "outputs": [],
   "source": []
  }
 ],
 "metadata": {
  "kernelspec": {
   "display_name": "Python 3 (ipykernel)",
   "language": "python",
   "name": "python3"
  },
  "language_info": {
   "codemirror_mode": {
    "name": "ipython",
    "version": 3
   },
   "file_extension": ".py",
   "mimetype": "text/x-python",
   "name": "python",
   "nbconvert_exporter": "python",
   "pygments_lexer": "ipython3",
   "version": "3.8.12"
  }
 },
 "nbformat": 4,
 "nbformat_minor": 5
}
